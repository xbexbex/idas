{
 "cells": [
  {
   "cell_type": "code",
   "execution_count": 2,
   "metadata": {},
   "outputs": [],
   "source": [
    "# Exercise 1"
   ]
  },
  {
   "cell_type": "code",
   "execution_count": 3,
   "metadata": {},
   "outputs": [],
   "source": [
    "a, b = (list(range(0, int(1e7) - 1)) for i in range(2))"
   ]
  },
  {
   "cell_type": "code",
   "execution_count": 4,
   "metadata": {},
   "outputs": [],
   "source": [
    "def add_with_for(a, b):\n",
    "     c = []\n",
    "     for i in range(0, len(a)):\n",
    "        c.append(a[i] + b[i])\n",
    "     return c"
   ]
  },
  {
   "cell_type": "code",
   "execution_count": 5,
   "metadata": {},
   "outputs": [
    {
     "output_type": "execute_result",
     "data": {
      "text/plain": "[0,\n 2,\n 4,\n 6,\n 8,\n 10,\n 12,\n 14,\n 16,\n 18,\n 20,\n 22,\n 24,\n 26,\n 28,\n 30,\n 32,\n 34,\n 36,\n 38,\n 40,\n 42,\n 44,\n 46,\n 48,\n 50,\n 52,\n 54,\n 56,\n 58,\n 60,\n 62,\n 64,\n 66,\n 68,\n 70,\n 72,\n 74,\n 76,\n 78,\n 80,\n 82,\n 84,\n 86,\n 88,\n 90,\n 92,\n 94,\n 96,\n 98,\n 100,\n 102,\n 104,\n 106,\n 108,\n 110,\n 112,\n 114,\n 116,\n 118,\n 120,\n 122,\n 124,\n 126,\n 128,\n 130,\n 132,\n 134,\n 136,\n 138,\n 140,\n 142,\n 144,\n 146,\n 148,\n 150,\n 152,\n 154,\n 156,\n 158,\n 160,\n 162,\n 164,\n 166,\n 168,\n 170,\n 172,\n 174,\n 176,\n 178,\n 180,\n 182,\n 184,\n 186,\n 188,\n 190,\n 192,\n 194,\n 196,\n 198,\n 200,\n 202,\n 204,\n 206,\n 208,\n 210,\n 212,\n 214,\n 216,\n 218,\n 220,\n 222,\n 224,\n 226,\n 228,\n 230,\n 232,\n 234,\n 236,\n 238,\n 240,\n 242,\n 244,\n 246,\n 248,\n 250,\n 252,\n 254,\n 256,\n 258,\n 260,\n 262,\n 264,\n 266,\n 268,\n 270,\n 272,\n 274,\n 276,\n 278,\n 280,\n 282,\n 284,\n 286,\n 288,\n 290,\n 292,\n 294,\n 296,\n 298,\n 300,\n 302,\n 304,\n 306,\n 308,\n 310,\n 312,\n 314,\n 316,\n 318,\n 320,\n 322,\n 324,\n 326,\n 328,\n 330,\n 332,\n 334,\n 336,\n 338,\n 340,\n 342,\n 344,\n 346,\n 348,\n 350,\n 352,\n 354,\n 356,\n 358,\n 360,\n 362,\n 364,\n 366,\n 368,\n 370,\n 372,\n 374,\n 376,\n 378,\n 380,\n 382,\n 384,\n 386,\n 388,\n 390,\n 392,\n 394,\n 396,\n 398,\n 400,\n 402,\n 404,\n 406,\n 408,\n 410,\n 412,\n 414,\n 416,\n 418,\n 420,\n 422,\n 424,\n 426,\n 428,\n 430,\n 432,\n 434,\n 436,\n 438,\n 440,\n 442,\n 444,\n 446,\n 448,\n 450,\n 452,\n 454,\n 456,\n 458,\n 460,\n 462,\n 464,\n 466,\n 468,\n 470,\n 472,\n 474,\n 476,\n 478,\n 480,\n 482,\n 484,\n 486,\n 488,\n 490,\n 492,\n 494,\n 496,\n 498,\n 500,\n 502,\n 504,\n 506,\n 508,\n 510,\n 512,\n 514,\n 516,\n 518,\n 520,\n 522,\n 524,\n 526,\n 528,\n 530,\n 532,\n 534,\n 536,\n 538,\n 540,\n 542,\n 544,\n 546,\n 548,\n 550,\n 552,\n 554,\n 556,\n 558,\n 560,\n 562,\n 564,\n 566,\n 568,\n 570,\n 572,\n 574,\n 576,\n 578,\n 580,\n 582,\n 584,\n 586,\n 588,\n 590,\n 592,\n 594,\n 596,\n 598,\n 600,\n 602,\n 604,\n 606,\n 608,\n 610,\n 612,\n 614,\n 616,\n 618,\n 620,\n 622,\n 624,\n 626,\n 628,\n 630,\n 632,\n 634,\n 636,\n 638,\n 640,\n 642,\n 644,\n 646,\n 648,\n 650,\n 652,\n 654,\n 656,\n 658,\n 660,\n 662,\n 664,\n 666,\n 668,\n 670,\n 672,\n 674,\n 676,\n 678,\n 680,\n 682,\n 684,\n 686,\n 688,\n 690,\n 692,\n 694,\n 696,\n 698,\n 700,\n 702,\n 704,\n 706,\n 708,\n 710,\n 712,\n 714,\n 716,\n 718,\n 720,\n 722,\n 724,\n 726,\n 728,\n 730,\n 732,\n 734,\n 736,\n 738,\n 740,\n 742,\n 744,\n 746,\n 748,\n 750,\n 752,\n 754,\n 756,\n 758,\n 760,\n 762,\n 764,\n 766,\n 768,\n 770,\n 772,\n 774,\n 776,\n 778,\n 780,\n 782,\n 784,\n 786,\n 788,\n 790,\n 792,\n 794,\n 796,\n 798,\n 800,\n 802,\n 804,\n 806,\n 808,\n 810,\n 812,\n 814,\n 816,\n 818,\n 820,\n 822,\n 824,\n 826,\n 828,\n 830,\n 832,\n 834,\n 836,\n 838,\n 840,\n 842,\n 844,\n 846,\n 848,\n 850,\n 852,\n 854,\n 856,\n 858,\n 860,\n 862,\n 864,\n 866,\n 868,\n 870,\n 872,\n 874,\n 876,\n 878,\n 880,\n 882,\n 884,\n 886,\n 888,\n 890,\n 892,\n 894,\n 896,\n 898,\n 900,\n 902,\n 904,\n 906,\n 908,\n 910,\n 912,\n 914,\n 916,\n 918,\n 920,\n 922,\n 924,\n 926,\n 928,\n 930,\n 932,\n 934,\n 936,\n 938,\n 940,\n 942,\n 944,\n 946,\n 948,\n 950,\n 952,\n 954,\n 956,\n 958,\n 960,\n 962,\n 964,\n 966,\n 968,\n 970,\n 972,\n 974,\n 976,\n 978,\n 980,\n 982,\n 984,\n 986,\n 988,\n 990,\n 992,\n 994,\n 996,\n 998,\n 1000,\n 1002,\n 1004,\n 1006,\n 1008,\n 1010,\n 1012,\n 1014,\n 1016,\n 1018,\n 1020,\n 1022,\n 1024,\n 1026,\n 1028,\n 1030,\n 1032,\n 1034,\n 1036,\n 1038,\n 1040,\n 1042,\n 1044,\n 1046,\n 1048,\n 1050,\n 1052,\n 1054,\n 1056,\n 1058,\n 1060,\n 1062,\n 1064,\n 1066,\n 1068,\n 1070,\n 1072,\n 1074,\n 1076,\n 1078,\n 1080,\n 1082,\n 1084,\n 1086,\n 1088,\n 1090,\n 1092,\n 1094,\n 1096,\n 1098,\n 1100,\n 1102,\n 1104,\n 1106,\n 1108,\n 1110,\n 1112,\n 1114,\n 1116,\n 1118,\n 1120,\n 1122,\n 1124,\n 1126,\n 1128,\n 1130,\n 1132,\n 1134,\n 1136,\n 1138,\n 1140,\n 1142,\n 1144,\n 1146,\n 1148,\n 1150,\n 1152,\n 1154,\n 1156,\n 1158,\n 1160,\n 1162,\n 1164,\n 1166,\n 1168,\n 1170,\n 1172,\n 1174,\n 1176,\n 1178,\n 1180,\n 1182,\n 1184,\n 1186,\n 1188,\n 1190,\n 1192,\n 1194,\n 1196,\n 1198,\n 1200,\n 1202,\n 1204,\n 1206,\n 1208,\n 1210,\n 1212,\n 1214,\n 1216,\n 1218,\n 1220,\n 1222,\n 1224,\n 1226,\n 1228,\n 1230,\n 1232,\n 1234,\n 1236,\n 1238,\n 1240,\n 1242,\n 1244,\n 1246,\n 1248,\n 1250,\n 1252,\n 1254,\n 1256,\n 1258,\n 1260,\n 1262,\n 1264,\n 1266,\n 1268,\n 1270,\n 1272,\n 1274,\n 1276,\n 1278,\n 1280,\n 1282,\n 1284,\n 1286,\n 1288,\n 1290,\n 1292,\n 1294,\n 1296,\n 1298,\n 1300,\n 1302,\n 1304,\n 1306,\n 1308,\n 1310,\n 1312,\n 1314,\n 1316,\n 1318,\n 1320,\n 1322,\n 1324,\n 1326,\n 1328,\n 1330,\n 1332,\n 1334,\n 1336,\n 1338,\n 1340,\n 1342,\n 1344,\n 1346,\n 1348,\n 1350,\n 1352,\n 1354,\n 1356,\n 1358,\n 1360,\n 1362,\n 1364,\n 1366,\n 1368,\n 1370,\n 1372,\n 1374,\n 1376,\n 1378,\n 1380,\n 1382,\n 1384,\n 1386,\n 1388,\n 1390,\n 1392,\n 1394,\n 1396,\n 1398,\n 1400,\n 1402,\n 1404,\n 1406,\n 1408,\n 1410,\n 1412,\n 1414,\n 1416,\n 1418,\n 1420,\n 1422,\n 1424,\n 1426,\n 1428,\n 1430,\n 1432,\n 1434,\n 1436,\n 1438,\n 1440,\n 1442,\n 1444,\n 1446,\n 1448,\n 1450,\n 1452,\n 1454,\n 1456,\n 1458,\n 1460,\n 1462,\n 1464,\n 1466,\n 1468,\n 1470,\n 1472,\n 1474,\n 1476,\n 1478,\n 1480,\n 1482,\n 1484,\n 1486,\n 1488,\n 1490,\n 1492,\n 1494,\n 1496,\n 1498,\n 1500,\n 1502,\n 1504,\n 1506,\n 1508,\n 1510,\n 1512,\n 1514,\n 1516,\n 1518,\n 1520,\n 1522,\n 1524,\n 1526,\n 1528,\n 1530,\n 1532,\n 1534,\n 1536,\n 1538,\n 1540,\n 1542,\n 1544,\n 1546,\n 1548,\n 1550,\n 1552,\n 1554,\n 1556,\n 1558,\n 1560,\n 1562,\n 1564,\n 1566,\n 1568,\n 1570,\n 1572,\n 1574,\n 1576,\n 1578,\n 1580,\n 1582,\n 1584,\n 1586,\n 1588,\n 1590,\n 1592,\n 1594,\n 1596,\n 1598,\n 1600,\n 1602,\n 1604,\n 1606,\n 1608,\n 1610,\n 1612,\n 1614,\n 1616,\n 1618,\n 1620,\n 1622,\n 1624,\n 1626,\n 1628,\n 1630,\n 1632,\n 1634,\n 1636,\n 1638,\n 1640,\n 1642,\n 1644,\n 1646,\n 1648,\n 1650,\n 1652,\n 1654,\n 1656,\n 1658,\n 1660,\n 1662,\n 1664,\n 1666,\n 1668,\n 1670,\n 1672,\n 1674,\n 1676,\n 1678,\n 1680,\n 1682,\n 1684,\n 1686,\n 1688,\n 1690,\n 1692,\n 1694,\n 1696,\n 1698,\n 1700,\n 1702,\n 1704,\n 1706,\n 1708,\n 1710,\n 1712,\n 1714,\n 1716,\n 1718,\n 1720,\n 1722,\n 1724,\n 1726,\n 1728,\n 1730,\n 1732,\n 1734,\n 1736,\n 1738,\n 1740,\n 1742,\n 1744,\n 1746,\n 1748,\n 1750,\n 1752,\n 1754,\n 1756,\n 1758,\n 1760,\n 1762,\n 1764,\n 1766,\n 1768,\n 1770,\n 1772,\n 1774,\n 1776,\n 1778,\n 1780,\n 1782,\n 1784,\n 1786,\n 1788,\n 1790,\n 1792,\n 1794,\n 1796,\n 1798,\n 1800,\n 1802,\n 1804,\n 1806,\n 1808,\n 1810,\n 1812,\n 1814,\n 1816,\n 1818,\n 1820,\n 1822,\n 1824,\n 1826,\n 1828,\n 1830,\n 1832,\n 1834,\n 1836,\n 1838,\n 1840,\n 1842,\n 1844,\n 1846,\n 1848,\n 1850,\n 1852,\n 1854,\n 1856,\n 1858,\n 1860,\n 1862,\n 1864,\n 1866,\n 1868,\n 1870,\n 1872,\n 1874,\n 1876,\n 1878,\n 1880,\n 1882,\n 1884,\n 1886,\n 1888,\n 1890,\n 1892,\n 1894,\n 1896,\n 1898,\n 1900,\n 1902,\n 1904,\n 1906,\n 1908,\n 1910,\n 1912,\n 1914,\n 1916,\n 1918,\n 1920,\n 1922,\n 1924,\n 1926,\n 1928,\n 1930,\n 1932,\n 1934,\n 1936,\n 1938,\n 1940,\n 1942,\n 1944,\n 1946,\n 1948,\n 1950,\n 1952,\n 1954,\n 1956,\n 1958,\n 1960,\n 1962,\n 1964,\n 1966,\n 1968,\n 1970,\n 1972,\n 1974,\n 1976,\n 1978,\n 1980,\n 1982,\n 1984,\n 1986,\n 1988,\n 1990,\n 1992,\n 1994,\n 1996,\n 1998,\n ...]"
     },
     "metadata": {},
     "execution_count": 5
    }
   ],
   "source": [
    "add_with_for(a, b)"
   ]
  },
  {
   "cell_type": "code",
   "execution_count": 6,
   "metadata": {},
   "outputs": [],
   "source": [
    "import numpy as np"
   ]
  },
  {
   "cell_type": "code",
   "execution_count": 7,
   "metadata": {},
   "outputs": [
    {
     "output_type": "execute_result",
     "data": {
      "text/plain": "array([0.0000000e+00, 2.0000000e+00, 4.0000000e+00, ..., 1.9999992e+07,\n       1.9999994e+07, 1.9999996e+07])"
     },
     "metadata": {},
     "execution_count": 7
    }
   ],
   "source": [
    "np.add(np.arange(1e7-1), np.arange(1e7-1))"
   ]
  },
  {
   "cell_type": "code",
   "execution_count": 8,
   "metadata": {
    "scrolled": true
   },
   "outputs": [
    {
     "output_type": "execute_result",
     "data": {
      "text/plain": "array([[ 0,  1,  2,  3,  4,  5,  6,  7,  8,  9],\n       [10, 11, 12, 13, 14, 15, 16, 17, 18, 19],\n       [20, 21, 22, 23, 24, 25, 26, 27, 28, 29],\n       [30, 31, 32, 33, 34, 35, 36, 37, 38, 39],\n       [40, 41, 42, 43, 44, 45, 46, 47, 48, 49],\n       [50, 51, 52, 53, 54, 55, 56, 57, 58, 59],\n       [60, 61, 62, 63, 64, 65, 66, 67, 68, 69],\n       [70, 71, 72, 73, 74, 75, 76, 77, 78, 79],\n       [80, 81, 82, 83, 84, 85, 86, 87, 88, 89],\n       [90, 91, 92, 93, 94, 95, 96, 97, 98, 99]])"
     },
     "metadata": {},
     "execution_count": 8
    }
   ],
   "source": [
    "np.arange(100).reshape(10,10)"
   ]
  },
  {
   "cell_type": "code",
   "execution_count": 9,
   "metadata": {},
   "outputs": [
    {
     "output_type": "execute_result",
     "data": {
      "text/plain": "array([[0., 1., 0., 1., 0., 1., 0., 1., 0., 1.],\n       [0., 1., 0., 1., 0., 1., 0., 1., 0., 1.],\n       [0., 1., 0., 1., 0., 1., 0., 1., 0., 1.],\n       [0., 1., 0., 1., 0., 1., 0., 1., 0., 1.],\n       [0., 1., 0., 1., 0., 1., 0., 1., 0., 1.],\n       [0., 1., 0., 1., 0., 1., 0., 1., 0., 1.],\n       [0., 1., 0., 1., 0., 1., 0., 1., 0., 1.],\n       [0., 1., 0., 1., 0., 1., 0., 1., 0., 1.],\n       [0., 1., 0., 1., 0., 1., 0., 1., 0., 1.],\n       [0., 1., 0., 1., 0., 1., 0., 1., 0., 1.]])"
     },
     "metadata": {},
     "execution_count": 9
    }
   ],
   "source": [
    "np.tile([0.,1.], 50).reshape(10,10)"
   ]
  },
  {
   "cell_type": "code",
   "execution_count": 10,
   "metadata": {},
   "outputs": [
    {
     "output_type": "execute_result",
     "data": {
      "text/plain": "array([[0., 1., 1., 1., 1., 1., 1., 1., 1., 1.],\n       [1., 0., 1., 1., 1., 1., 1., 1., 1., 1.],\n       [1., 1., 0., 1., 1., 1., 1., 1., 1., 1.],\n       [1., 1., 1., 0., 1., 1., 1., 1., 1., 1.],\n       [1., 1., 1., 1., 0., 1., 1., 1., 1., 1.],\n       [1., 1., 1., 1., 1., 0., 1., 1., 1., 1.],\n       [1., 1., 1., 1., 1., 1., 0., 1., 1., 1.],\n       [1., 1., 1., 1., 1., 1., 1., 0., 1., 1.],\n       [1., 1., 1., 1., 1., 1., 1., 1., 0., 1.],\n       [1., 1., 1., 1., 1., 1., 1., 1., 1., 0.]])"
     },
     "metadata": {},
     "execution_count": 10
    }
   ],
   "source": [
    "c = np.concatenate([[0.], np.repeat(1., 10)])\n",
    "d = np.append(np.tile(c, 9), 0.).reshape(10,10)\n",
    "d"
   ]
  },
  {
   "cell_type": "code",
   "execution_count": 11,
   "metadata": {},
   "outputs": [],
   "source": [
    "e = np.flip(d, 1)"
   ]
  },
  {
   "cell_type": "code",
   "execution_count": 12,
   "metadata": {},
   "outputs": [
    {
     "output_type": "execute_result",
     "data": {
      "text/plain": "-81.0000000000001"
     },
     "metadata": {},
     "execution_count": 12
    }
   ],
   "source": [
    "np.linalg.det(d.dot(e))"
   ]
  },
  {
   "cell_type": "code",
   "execution_count": 13,
   "metadata": {},
   "outputs": [
    {
     "output_type": "execute_result",
     "data": {
      "text/plain": "-81.0"
     },
     "metadata": {},
     "execution_count": 13
    }
   ],
   "source": [
    "np.linalg.det(d) * np.linalg.det(e)"
   ]
  },
  {
   "cell_type": "code",
   "execution_count": 14,
   "metadata": {},
   "outputs": [
    {
     "output_type": "execute_result",
     "data": {
      "text/plain": "(506, 13)"
     },
     "metadata": {},
     "execution_count": 14
    }
   ],
   "source": [
    "from sklearn.datasets import load_boston\n",
    "import pandas as pd\n",
    "boston = load_boston()\n",
    "boston.data.shape"
   ]
  },
  {
   "cell_type": "code",
   "execution_count": 15,
   "metadata": {},
   "outputs": [],
   "source": [
    "df = pd.DataFrame(boston.data, columns=boston.feature_names)"
   ]
  },
  {
   "cell_type": "code",
   "execution_count": 16,
   "metadata": {},
   "outputs": [
    {
     "output_type": "execute_result",
     "data": {
      "text/plain": "        CRIM   ZN  INDUS  CHAS    NOX     RM   AGE     DIS   RAD    TAX  \\\n16   1.05393  0.0   8.14   0.0  0.538  5.935  29.3  4.4986   4.0  307.0   \n20   1.25179  0.0   8.14   0.0  0.538  5.570  98.1  3.7979   4.0  307.0   \n22   1.23247  0.0   8.14   0.0  0.538  6.142  91.7  3.9769   4.0  307.0   \n29   1.00245  0.0   8.14   0.0  0.538  6.674  87.3  4.2390   4.0  307.0   \n30   1.13081  0.0   8.14   0.0  0.538  5.713  94.1  4.2330   4.0  307.0   \n..       ...  ...    ...   ...    ...    ...   ...     ...   ...    ...   \n483  2.81838  0.0  18.10   0.0  0.532  5.762  40.3  4.0983  24.0  666.0   \n484  2.37857  0.0  18.10   0.0  0.583  5.871  41.9  3.7240  24.0  666.0   \n485  3.67367  0.0  18.10   0.0  0.583  6.312  51.9  3.9917  24.0  666.0   \n486  5.69175  0.0  18.10   0.0  0.583  6.114  79.8  3.5459  24.0  666.0   \n487  4.83567  0.0  18.10   0.0  0.583  5.905  53.2  3.1523  24.0  666.0   \n\n     PTRATIO       B  LSTAT  \n16      21.0  386.85   6.58  \n20      21.0  376.57  21.02  \n22      21.0  396.90  18.72  \n29      21.0  380.23  11.98  \n30      21.0  360.17  22.60  \n..       ...     ...    ...  \n483     20.2  392.92  10.42  \n484     20.2  370.73  13.34  \n485     20.2  388.62  10.58  \n486     20.2  392.68  14.98  \n487     20.2  388.22  11.45  \n\n[174 rows x 13 columns]",
      "text/html": "<div>\n<style scoped>\n    .dataframe tbody tr th:only-of-type {\n        vertical-align: middle;\n    }\n\n    .dataframe tbody tr th {\n        vertical-align: top;\n    }\n\n    .dataframe thead th {\n        text-align: right;\n    }\n</style>\n<table border=\"1\" class=\"dataframe\">\n  <thead>\n    <tr style=\"text-align: right;\">\n      <th></th>\n      <th>CRIM</th>\n      <th>ZN</th>\n      <th>INDUS</th>\n      <th>CHAS</th>\n      <th>NOX</th>\n      <th>RM</th>\n      <th>AGE</th>\n      <th>DIS</th>\n      <th>RAD</th>\n      <th>TAX</th>\n      <th>PTRATIO</th>\n      <th>B</th>\n      <th>LSTAT</th>\n    </tr>\n  </thead>\n  <tbody>\n    <tr>\n      <th>16</th>\n      <td>1.05393</td>\n      <td>0.0</td>\n      <td>8.14</td>\n      <td>0.0</td>\n      <td>0.538</td>\n      <td>5.935</td>\n      <td>29.3</td>\n      <td>4.4986</td>\n      <td>4.0</td>\n      <td>307.0</td>\n      <td>21.0</td>\n      <td>386.85</td>\n      <td>6.58</td>\n    </tr>\n    <tr>\n      <th>20</th>\n      <td>1.25179</td>\n      <td>0.0</td>\n      <td>8.14</td>\n      <td>0.0</td>\n      <td>0.538</td>\n      <td>5.570</td>\n      <td>98.1</td>\n      <td>3.7979</td>\n      <td>4.0</td>\n      <td>307.0</td>\n      <td>21.0</td>\n      <td>376.57</td>\n      <td>21.02</td>\n    </tr>\n    <tr>\n      <th>22</th>\n      <td>1.23247</td>\n      <td>0.0</td>\n      <td>8.14</td>\n      <td>0.0</td>\n      <td>0.538</td>\n      <td>6.142</td>\n      <td>91.7</td>\n      <td>3.9769</td>\n      <td>4.0</td>\n      <td>307.0</td>\n      <td>21.0</td>\n      <td>396.90</td>\n      <td>18.72</td>\n    </tr>\n    <tr>\n      <th>29</th>\n      <td>1.00245</td>\n      <td>0.0</td>\n      <td>8.14</td>\n      <td>0.0</td>\n      <td>0.538</td>\n      <td>6.674</td>\n      <td>87.3</td>\n      <td>4.2390</td>\n      <td>4.0</td>\n      <td>307.0</td>\n      <td>21.0</td>\n      <td>380.23</td>\n      <td>11.98</td>\n    </tr>\n    <tr>\n      <th>30</th>\n      <td>1.13081</td>\n      <td>0.0</td>\n      <td>8.14</td>\n      <td>0.0</td>\n      <td>0.538</td>\n      <td>5.713</td>\n      <td>94.1</td>\n      <td>4.2330</td>\n      <td>4.0</td>\n      <td>307.0</td>\n      <td>21.0</td>\n      <td>360.17</td>\n      <td>22.60</td>\n    </tr>\n    <tr>\n      <th>...</th>\n      <td>...</td>\n      <td>...</td>\n      <td>...</td>\n      <td>...</td>\n      <td>...</td>\n      <td>...</td>\n      <td>...</td>\n      <td>...</td>\n      <td>...</td>\n      <td>...</td>\n      <td>...</td>\n      <td>...</td>\n      <td>...</td>\n    </tr>\n    <tr>\n      <th>483</th>\n      <td>2.81838</td>\n      <td>0.0</td>\n      <td>18.10</td>\n      <td>0.0</td>\n      <td>0.532</td>\n      <td>5.762</td>\n      <td>40.3</td>\n      <td>4.0983</td>\n      <td>24.0</td>\n      <td>666.0</td>\n      <td>20.2</td>\n      <td>392.92</td>\n      <td>10.42</td>\n    </tr>\n    <tr>\n      <th>484</th>\n      <td>2.37857</td>\n      <td>0.0</td>\n      <td>18.10</td>\n      <td>0.0</td>\n      <td>0.583</td>\n      <td>5.871</td>\n      <td>41.9</td>\n      <td>3.7240</td>\n      <td>24.0</td>\n      <td>666.0</td>\n      <td>20.2</td>\n      <td>370.73</td>\n      <td>13.34</td>\n    </tr>\n    <tr>\n      <th>485</th>\n      <td>3.67367</td>\n      <td>0.0</td>\n      <td>18.10</td>\n      <td>0.0</td>\n      <td>0.583</td>\n      <td>6.312</td>\n      <td>51.9</td>\n      <td>3.9917</td>\n      <td>24.0</td>\n      <td>666.0</td>\n      <td>20.2</td>\n      <td>388.62</td>\n      <td>10.58</td>\n    </tr>\n    <tr>\n      <th>486</th>\n      <td>5.69175</td>\n      <td>0.0</td>\n      <td>18.10</td>\n      <td>0.0</td>\n      <td>0.583</td>\n      <td>6.114</td>\n      <td>79.8</td>\n      <td>3.5459</td>\n      <td>24.0</td>\n      <td>666.0</td>\n      <td>20.2</td>\n      <td>392.68</td>\n      <td>14.98</td>\n    </tr>\n    <tr>\n      <th>487</th>\n      <td>4.83567</td>\n      <td>0.0</td>\n      <td>18.10</td>\n      <td>0.0</td>\n      <td>0.583</td>\n      <td>5.905</td>\n      <td>53.2</td>\n      <td>3.1523</td>\n      <td>24.0</td>\n      <td>666.0</td>\n      <td>20.2</td>\n      <td>388.22</td>\n      <td>11.45</td>\n    </tr>\n  </tbody>\n</table>\n<p>174 rows × 13 columns</p>\n</div>"
     },
     "metadata": {},
     "execution_count": 16
    }
   ],
   "source": [
    "df.loc[df['CRIM'] > 1]"
   ]
  },
  {
   "cell_type": "code",
   "execution_count": 17,
   "metadata": {},
   "outputs": [
    {
     "output_type": "execute_result",
     "data": {
      "text/plain": "        CRIM    ZN  INDUS  CHAS    NOX     RM   AGE      DIS  RAD    TAX  \\\n1    0.02731   0.0   7.07   0.0  0.469  6.421  78.9   4.9671  2.0  242.0   \n2    0.02729   0.0   7.07   0.0  0.469  7.185  61.1   4.9671  2.0  242.0   \n41   0.12744   0.0   6.91   0.0  0.448  6.770   2.9   5.7209  3.0  233.0   \n42   0.14150   0.0   6.91   0.0  0.448  6.169   6.6   5.7209  3.0  233.0   \n43   0.15936   0.0   6.91   0.0  0.448  6.211   6.5   5.7209  3.0  233.0   \n..       ...   ...    ...   ...    ...    ...   ...      ...  ...    ...   \n343  0.02543  55.0   3.78   0.0  0.484  6.696  56.4   5.7321  5.0  370.0   \n344  0.03049  55.0   3.78   0.0  0.484  6.874  28.1   6.4654  5.0  370.0   \n347  0.01870  85.0   4.15   0.0  0.429  6.516  27.7   8.5353  4.0  351.0   \n348  0.01501  80.0   2.01   0.0  0.435  6.635  29.7   8.3440  4.0  280.0   \n353  0.01709  90.0   2.02   0.0  0.410  6.728  36.1  12.1265  5.0  187.0   \n\n     PTRATIO       B  LSTAT  \n1       17.8  396.90   9.14  \n2       17.8  392.83   4.03  \n41      17.9  385.41   4.84  \n42      17.9  383.37   5.81  \n43      17.9  394.46   7.44  \n..       ...     ...    ...  \n343     17.6  396.90   7.18  \n344     17.6  387.97   4.61  \n347     17.9  392.43   6.36  \n348     17.0  390.94   5.99  \n353     17.0  384.46   4.50  \n\n[100 rows x 13 columns]",
      "text/html": "<div>\n<style scoped>\n    .dataframe tbody tr th:only-of-type {\n        vertical-align: middle;\n    }\n\n    .dataframe tbody tr th {\n        vertical-align: top;\n    }\n\n    .dataframe thead th {\n        text-align: right;\n    }\n</style>\n<table border=\"1\" class=\"dataframe\">\n  <thead>\n    <tr style=\"text-align: right;\">\n      <th></th>\n      <th>CRIM</th>\n      <th>ZN</th>\n      <th>INDUS</th>\n      <th>CHAS</th>\n      <th>NOX</th>\n      <th>RM</th>\n      <th>AGE</th>\n      <th>DIS</th>\n      <th>RAD</th>\n      <th>TAX</th>\n      <th>PTRATIO</th>\n      <th>B</th>\n      <th>LSTAT</th>\n    </tr>\n  </thead>\n  <tbody>\n    <tr>\n      <th>1</th>\n      <td>0.02731</td>\n      <td>0.0</td>\n      <td>7.07</td>\n      <td>0.0</td>\n      <td>0.469</td>\n      <td>6.421</td>\n      <td>78.9</td>\n      <td>4.9671</td>\n      <td>2.0</td>\n      <td>242.0</td>\n      <td>17.8</td>\n      <td>396.90</td>\n      <td>9.14</td>\n    </tr>\n    <tr>\n      <th>2</th>\n      <td>0.02729</td>\n      <td>0.0</td>\n      <td>7.07</td>\n      <td>0.0</td>\n      <td>0.469</td>\n      <td>7.185</td>\n      <td>61.1</td>\n      <td>4.9671</td>\n      <td>2.0</td>\n      <td>242.0</td>\n      <td>17.8</td>\n      <td>392.83</td>\n      <td>4.03</td>\n    </tr>\n    <tr>\n      <th>41</th>\n      <td>0.12744</td>\n      <td>0.0</td>\n      <td>6.91</td>\n      <td>0.0</td>\n      <td>0.448</td>\n      <td>6.770</td>\n      <td>2.9</td>\n      <td>5.7209</td>\n      <td>3.0</td>\n      <td>233.0</td>\n      <td>17.9</td>\n      <td>385.41</td>\n      <td>4.84</td>\n    </tr>\n    <tr>\n      <th>42</th>\n      <td>0.14150</td>\n      <td>0.0</td>\n      <td>6.91</td>\n      <td>0.0</td>\n      <td>0.448</td>\n      <td>6.169</td>\n      <td>6.6</td>\n      <td>5.7209</td>\n      <td>3.0</td>\n      <td>233.0</td>\n      <td>17.9</td>\n      <td>383.37</td>\n      <td>5.81</td>\n    </tr>\n    <tr>\n      <th>43</th>\n      <td>0.15936</td>\n      <td>0.0</td>\n      <td>6.91</td>\n      <td>0.0</td>\n      <td>0.448</td>\n      <td>6.211</td>\n      <td>6.5</td>\n      <td>5.7209</td>\n      <td>3.0</td>\n      <td>233.0</td>\n      <td>17.9</td>\n      <td>394.46</td>\n      <td>7.44</td>\n    </tr>\n    <tr>\n      <th>...</th>\n      <td>...</td>\n      <td>...</td>\n      <td>...</td>\n      <td>...</td>\n      <td>...</td>\n      <td>...</td>\n      <td>...</td>\n      <td>...</td>\n      <td>...</td>\n      <td>...</td>\n      <td>...</td>\n      <td>...</td>\n      <td>...</td>\n    </tr>\n    <tr>\n      <th>343</th>\n      <td>0.02543</td>\n      <td>55.0</td>\n      <td>3.78</td>\n      <td>0.0</td>\n      <td>0.484</td>\n      <td>6.696</td>\n      <td>56.4</td>\n      <td>5.7321</td>\n      <td>5.0</td>\n      <td>370.0</td>\n      <td>17.6</td>\n      <td>396.90</td>\n      <td>7.18</td>\n    </tr>\n    <tr>\n      <th>344</th>\n      <td>0.03049</td>\n      <td>55.0</td>\n      <td>3.78</td>\n      <td>0.0</td>\n      <td>0.484</td>\n      <td>6.874</td>\n      <td>28.1</td>\n      <td>6.4654</td>\n      <td>5.0</td>\n      <td>370.0</td>\n      <td>17.6</td>\n      <td>387.97</td>\n      <td>4.61</td>\n    </tr>\n    <tr>\n      <th>347</th>\n      <td>0.01870</td>\n      <td>85.0</td>\n      <td>4.15</td>\n      <td>0.0</td>\n      <td>0.429</td>\n      <td>6.516</td>\n      <td>27.7</td>\n      <td>8.5353</td>\n      <td>4.0</td>\n      <td>351.0</td>\n      <td>17.9</td>\n      <td>392.43</td>\n      <td>6.36</td>\n    </tr>\n    <tr>\n      <th>348</th>\n      <td>0.01501</td>\n      <td>80.0</td>\n      <td>2.01</td>\n      <td>0.0</td>\n      <td>0.435</td>\n      <td>6.635</td>\n      <td>29.7</td>\n      <td>8.3440</td>\n      <td>4.0</td>\n      <td>280.0</td>\n      <td>17.0</td>\n      <td>390.94</td>\n      <td>5.99</td>\n    </tr>\n    <tr>\n      <th>353</th>\n      <td>0.01709</td>\n      <td>90.0</td>\n      <td>2.02</td>\n      <td>0.0</td>\n      <td>0.410</td>\n      <td>6.728</td>\n      <td>36.1</td>\n      <td>12.1265</td>\n      <td>5.0</td>\n      <td>187.0</td>\n      <td>17.0</td>\n      <td>384.46</td>\n      <td>4.50</td>\n    </tr>\n  </tbody>\n</table>\n<p>100 rows × 13 columns</p>\n</div>"
     },
     "metadata": {},
     "execution_count": 17
    }
   ],
   "source": [
    "df.loc[(df['PTRATIO'] > 16) & (df['PTRATIO'] < 18)]"
   ]
  },
  {
   "cell_type": "code",
   "execution_count": 18,
   "metadata": {},
   "outputs": [
    {
     "output_type": "execute_result",
     "data": {
      "text/plain": "0.4921201612903226"
     },
     "metadata": {},
     "execution_count": 18
    }
   ],
   "source": [
    "df['MEDV'] = boston.target\n",
    "df.loc[df['MEDV'] > 25]['NOX'].mean()"
   ]
  },
  {
   "cell_type": "code",
   "execution_count": 19,
   "metadata": {},
   "outputs": [],
   "source": [
    "# Exercise 2"
   ]
  },
  {
   "cell_type": "code",
   "execution_count": 20,
   "metadata": {
    "scrolled": true
   },
   "outputs": [
    {
     "output_type": "execute_result",
     "data": {
      "text/plain": "'/home/xbexbex/git/ids/week1'"
     },
     "metadata": {},
     "execution_count": 20
    }
   ],
   "source": [
    "import os\n",
    "os.getcwd()"
   ]
  },
  {
   "cell_type": "code",
   "execution_count": 21,
   "metadata": {},
   "outputs": [
    {
     "output_type": "execute_result",
     "data": {
      "text/plain": "           reviewerID        asin                        reviewerName  \\\n0      A3F73SC1LY51OO  B00002243X                     Alan Montgomery   \n1      A20S66SKYXULG2  B00002243X                            alphonse   \n2      A2I8LFSN2IS5EO  B00002243X                               Chris   \n3      A3GT2EWQSO45ZG  B00002243X                              DeusEx   \n4      A3ESWJPAVRPWB4  B00002243X                        E. Hernandez   \n...               ...         ...                                 ...   \n20468  A1KB43BI085A48  B00KIAQ8VW                             Mike F.   \n20469  A3HIUWKL4D853W  B00KIAQ8VW                                RayH   \n20470  A1S95WASXJ02VX  B00KIAQ8VW                 Roberto Aguilar Jr.   \n20471  A2IID0Z6EHF5KP  B00KIAQ8VW                              Soarer   \n20472  A3HKZTFCPIK2OE  B00KIAQ8VW  SSG Barnes (ABN) \"James C. Barnes\"   \n\n        helpful                                         reviewText  overall  \\\n0        [4, 4]  I needed a set of jumper cables for my new car...        5   \n1        [1, 1]  These long cables work fine for my truck, but ...        4   \n2        [0, 0]  Can't comment much on these since they have no...        5   \n3      [19, 19]  I absolutley love Amazon!!!  For the price of ...        5   \n4        [0, 0]  I purchased the 12' feet long cable set and th...        5   \n...         ...                                                ...      ...   \n20468    [1, 1]  I've bought 10 of these over the past year to ...        5   \n20469    [0, 0]  OK, I have to admit, the price of this item di...        2   \n20470    [0, 0]  I love my skull face mask. It makes me outstan...        5   \n20471    [0, 0]  This mask of course as described is half-face ...        5   \n20472    [0, 0]  Good light weight for just cool nights or rain...        5   \n\n                                                 summary  unixReviewTime  \\\n0             Work Well - Should Have Bought Longer Ones      1313539200   \n1                                       Okay long cables      1315094400   \n2                             Looks and feels heavy Duty      1374710400   \n3                  Excellent choice for Jumper Cables!!!      1292889600   \n4                 Excellent, High Quality Starter Cables      1341360000   \n...                                                  ...             ...   \n20468                    Excellent quality for the price      1396915200   \n20469  Light weight neck and face cover with whimsica...      1391472000   \n20470            I love to ride with my Skull Face Mask.      1386547200   \n20471                              Great neck protection      1357171200   \n20472                                          FACE MASK      1395100800   \n\n        reviewTime  \n0      08 17, 2011  \n1       09 4, 2011  \n2      07 25, 2013  \n3      12 21, 2010  \n4       07 4, 2012  \n...            ...  \n20468   04 8, 2014  \n20469   02 4, 2014  \n20470   12 9, 2013  \n20471   01 3, 2013  \n20472  03 18, 2014  \n\n[20473 rows x 9 columns]",
      "text/html": "<div>\n<style scoped>\n    .dataframe tbody tr th:only-of-type {\n        vertical-align: middle;\n    }\n\n    .dataframe tbody tr th {\n        vertical-align: top;\n    }\n\n    .dataframe thead th {\n        text-align: right;\n    }\n</style>\n<table border=\"1\" class=\"dataframe\">\n  <thead>\n    <tr style=\"text-align: right;\">\n      <th></th>\n      <th>reviewerID</th>\n      <th>asin</th>\n      <th>reviewerName</th>\n      <th>helpful</th>\n      <th>reviewText</th>\n      <th>overall</th>\n      <th>summary</th>\n      <th>unixReviewTime</th>\n      <th>reviewTime</th>\n    </tr>\n  </thead>\n  <tbody>\n    <tr>\n      <th>0</th>\n      <td>A3F73SC1LY51OO</td>\n      <td>B00002243X</td>\n      <td>Alan Montgomery</td>\n      <td>[4, 4]</td>\n      <td>I needed a set of jumper cables for my new car...</td>\n      <td>5</td>\n      <td>Work Well - Should Have Bought Longer Ones</td>\n      <td>1313539200</td>\n      <td>08 17, 2011</td>\n    </tr>\n    <tr>\n      <th>1</th>\n      <td>A20S66SKYXULG2</td>\n      <td>B00002243X</td>\n      <td>alphonse</td>\n      <td>[1, 1]</td>\n      <td>These long cables work fine for my truck, but ...</td>\n      <td>4</td>\n      <td>Okay long cables</td>\n      <td>1315094400</td>\n      <td>09 4, 2011</td>\n    </tr>\n    <tr>\n      <th>2</th>\n      <td>A2I8LFSN2IS5EO</td>\n      <td>B00002243X</td>\n      <td>Chris</td>\n      <td>[0, 0]</td>\n      <td>Can't comment much on these since they have no...</td>\n      <td>5</td>\n      <td>Looks and feels heavy Duty</td>\n      <td>1374710400</td>\n      <td>07 25, 2013</td>\n    </tr>\n    <tr>\n      <th>3</th>\n      <td>A3GT2EWQSO45ZG</td>\n      <td>B00002243X</td>\n      <td>DeusEx</td>\n      <td>[19, 19]</td>\n      <td>I absolutley love Amazon!!!  For the price of ...</td>\n      <td>5</td>\n      <td>Excellent choice for Jumper Cables!!!</td>\n      <td>1292889600</td>\n      <td>12 21, 2010</td>\n    </tr>\n    <tr>\n      <th>4</th>\n      <td>A3ESWJPAVRPWB4</td>\n      <td>B00002243X</td>\n      <td>E. Hernandez</td>\n      <td>[0, 0]</td>\n      <td>I purchased the 12' feet long cable set and th...</td>\n      <td>5</td>\n      <td>Excellent, High Quality Starter Cables</td>\n      <td>1341360000</td>\n      <td>07 4, 2012</td>\n    </tr>\n    <tr>\n      <th>...</th>\n      <td>...</td>\n      <td>...</td>\n      <td>...</td>\n      <td>...</td>\n      <td>...</td>\n      <td>...</td>\n      <td>...</td>\n      <td>...</td>\n      <td>...</td>\n    </tr>\n    <tr>\n      <th>20468</th>\n      <td>A1KB43BI085A48</td>\n      <td>B00KIAQ8VW</td>\n      <td>Mike F.</td>\n      <td>[1, 1]</td>\n      <td>I've bought 10 of these over the past year to ...</td>\n      <td>5</td>\n      <td>Excellent quality for the price</td>\n      <td>1396915200</td>\n      <td>04 8, 2014</td>\n    </tr>\n    <tr>\n      <th>20469</th>\n      <td>A3HIUWKL4D853W</td>\n      <td>B00KIAQ8VW</td>\n      <td>RayH</td>\n      <td>[0, 0]</td>\n      <td>OK, I have to admit, the price of this item di...</td>\n      <td>2</td>\n      <td>Light weight neck and face cover with whimsica...</td>\n      <td>1391472000</td>\n      <td>02 4, 2014</td>\n    </tr>\n    <tr>\n      <th>20470</th>\n      <td>A1S95WASXJ02VX</td>\n      <td>B00KIAQ8VW</td>\n      <td>Roberto Aguilar Jr.</td>\n      <td>[0, 0]</td>\n      <td>I love my skull face mask. It makes me outstan...</td>\n      <td>5</td>\n      <td>I love to ride with my Skull Face Mask.</td>\n      <td>1386547200</td>\n      <td>12 9, 2013</td>\n    </tr>\n    <tr>\n      <th>20471</th>\n      <td>A2IID0Z6EHF5KP</td>\n      <td>B00KIAQ8VW</td>\n      <td>Soarer</td>\n      <td>[0, 0]</td>\n      <td>This mask of course as described is half-face ...</td>\n      <td>5</td>\n      <td>Great neck protection</td>\n      <td>1357171200</td>\n      <td>01 3, 2013</td>\n    </tr>\n    <tr>\n      <th>20472</th>\n      <td>A3HKZTFCPIK2OE</td>\n      <td>B00KIAQ8VW</td>\n      <td>SSG Barnes (ABN) \"James C. Barnes\"</td>\n      <td>[0, 0]</td>\n      <td>Good light weight for just cool nights or rain...</td>\n      <td>5</td>\n      <td>FACE MASK</td>\n      <td>1395100800</td>\n      <td>03 18, 2014</td>\n    </tr>\n  </tbody>\n</table>\n<p>20473 rows × 9 columns</p>\n</div>"
     },
     "metadata": {},
     "execution_count": 21
    }
   ],
   "source": [
    "automotive = pd.read_json('reviews_Automotive_5.json', lines=True)\n",
    "automotive"
   ]
  },
  {
   "cell_type": "code",
   "execution_count": 55,
   "metadata": {
    "tags": []
   },
   "outputs": [
    {
     "output_type": "execute_result",
     "data": {
      "text/plain": "array([nan, nan, nan, nan, nan, nan, nan, nan, nan, nan, nan, nan, nan,\n       nan, nan, nan, nan, nan, nan, nan, nan, nan, nan, nan, nan, nan,\n       nan, nan, nan, nan, nan, nan, nan, nan, nan, nan, nan, nan, nan,\n       nan, nan, nan, nan, nan, nan, nan, nan, nan, nan, nan, nan, nan,\n       nan, nan, nan, nan, nan, nan, nan, nan, nan, nan, nan, nan, nan,\n       nan, nan, nan, nan, nan, nan, nan, nan, nan, nan, nan, nan, nan,\n       nan, nan, nan, nan, nan, nan, nan, nan, nan, nan, nan, nan, nan,\n       nan, nan, nan, nan, nan, nan, nan, nan, nan, nan, nan, nan, nan,\n       nan, nan, nan, nan, nan, nan, nan, nan, nan, nan, nan, nan, nan,\n       nan, nan])"
     },
     "metadata": {},
     "execution_count": 55
    }
   ],
   "source": [
    "stop_words=pd.read_csv('stop-word-list.csv', sep=',',header=None)\n",
    "\n",
    "if \"the\" in stop_words.values[0]:\n",
    "    print(\"asdf\")\n",
    "\n",
    "if 2 in [1,2,3]:\n",
    "    print(\"vittu\")"
   ]
  },
  {
   "cell_type": "code",
   "execution_count": 23,
   "metadata": {},
   "outputs": [],
   "source": [
    "automotive['reviewText'] = automotive['reviewText'].apply(lambda x: x.lower())"
   ]
  },
  {
   "cell_type": "code",
   "execution_count": 24,
   "metadata": {},
   "outputs": [],
   "source": [
    "import re"
   ]
  },
  {
   "cell_type": "code",
   "execution_count": 25,
   "metadata": {},
   "outputs": [],
   "source": [
    "punctuation = r'[!\"#\\$\\%\\&\\\\\\'\\(\\)\\*\\+\\,-./:;<=>?@\\[\\]^_`\\{|\\}~]'"
   ]
  },
  {
   "cell_type": "code",
   "execution_count": 26,
   "metadata": {},
   "outputs": [],
   "source": [
    "automotive['reviewText'] = automotive['reviewText'].apply(lambda x: re.sub(punctuation, '', x))"
   ]
  },
  {
   "cell_type": "code",
   "execution_count": 34,
   "metadata": {},
   "outputs": [],
   "source": [
    "automotive['reviewText'] = automotive['reviewText'].apply(lambda x: ' '.join([word for word in x.split() if word not in stop_words]))"
   ]
  },
  {
   "cell_type": "code",
   "execution_count": 28,
   "metadata": {},
   "outputs": [],
   "source": [
    "import nltk\n",
    "from nltk.stem.snowball import SnowballStemmer\n",
    "from nltk.stem.porter import PorterStemmer"
   ]
  },
  {
   "cell_type": "code",
   "execution_count": 29,
   "metadata": {},
   "outputs": [],
   "source": [
    "snowball_stemmer = SnowballStemmer('english')\n",
    "porter_stemmer = PorterStemmer()"
   ]
  },
  {
   "cell_type": "code",
   "execution_count": 30,
   "metadata": {},
   "outputs": [],
   "source": [
    "automotive['reviewText'] = automotive['reviewText'].apply(lambda x: ' '.join([snowball_stemmer.stem(porter_stemmer.stem(word)) for word in x.split()]))"
   ]
  },
  {
   "cell_type": "code",
   "execution_count": 31,
   "metadata": {},
   "outputs": [
    {
     "output_type": "execute_result",
     "data": {
      "text/plain": "0        i need a set of jumper cabl for my new car and...\n1        these long cabl work fine for my truck but the...\n2        cant comment much on these sinc they have not ...\n3        i absolutley love amazon for the price of a se...\n4        i purcha the 12 feet long cabl set and they ar...\n                               ...                        \n20468    ive bought 10 of these over the past year to g...\n20469    ok i have to admit the price of thi item did n...\n20470    i love my skull face mask it make me outstand ...\n20471    thi mask of cour as describ is halffac but wit...\n20472    good light weight for just cool night or rain ...\nName: reviewText, Length: 20473, dtype: object"
     },
     "metadata": {},
     "execution_count": 31
    }
   ],
   "source": [
    "automotive['reviewText']"
   ]
  },
  {
   "cell_type": "code",
   "execution_count": 32,
   "metadata": {},
   "outputs": [],
   "source": [
    "pos = automotive.loc[automotive['overall'] >= 4]['reviewText']\n",
    "pos.to_csv(r'pos.txt', header=False, index=None, mode='a', sep=' ')"
   ]
  },
  {
   "cell_type": "code",
   "execution_count": 33,
   "metadata": {},
   "outputs": [],
   "source": [
    "neg = automotive.loc[automotive['overall'] <= 2]['reviewText']\n",
    "neg.to_csv(r'neg.txt', header=False, index=None, mode='a', sep=' ')"
   ]
  }
 ],
 "metadata": {
  "kernelspec": {
   "display_name": "Python 3",
   "language": "python",
   "name": "python3"
  },
  "language_info": {
   "codemirror_mode": {
    "name": "ipython",
    "version": 3
   },
   "file_extension": ".py",
   "mimetype": "text/x-python",
   "name": "python",
   "nbconvert_exporter": "python",
   "pygments_lexer": "ipython3",
   "version": "3.8.5-final"
  }
 },
 "nbformat": 4,
 "nbformat_minor": 2
}