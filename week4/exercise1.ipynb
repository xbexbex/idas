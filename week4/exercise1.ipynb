{
 "cells": [
  {
   "cell_type": "code",
   "execution_count": 211,
   "metadata": {},
   "outputs": [],
   "source": [
    "import numpy as np\n",
    "import pandas as pd\n",
    "import json\n",
    "from collections import Counter"
   ]
  },
  {
   "cell_type": "code",
   "execution_count": 212,
   "metadata": {},
   "outputs": [],
   "source": [
    "df = pd.read_csv('ted_main.csv')"
   ]
  },
  {
   "cell_type": "code",
   "execution_count": 213,
   "metadata": {},
   "outputs": [],
   "source": [
    "def string_to_object(string):\n",
    "    return json.loads(string.replace(\"'\", \"\\\"\"))\n",
    "\n",
    "ratings = string_to_object(df.iloc[0]['ratings'])\n",
    "rating_names = list(map(lambda x: x['name'], review_obj))"
   ]
  },
  {
   "cell_type": "code",
   "execution_count": 214,
   "metadata": {},
   "outputs": [],
   "source": [
    "for col in rating_names:\n",
    "    df[col] = np.nan"
   ]
  },
  {
   "cell_type": "code",
   "execution_count": 215,
   "metadata": {},
   "outputs": [],
   "source": [
    "def split_ratings(row):\n",
    "    ratings = string_to_object(row['ratings'])\n",
    "    for rating in ratings:\n",
    "        row[rating['name']] = rating['count']\n",
    "    return row\n",
    "        \n",
    "df = df.apply(lambda x: split_ratings(x), axis=1)"
   ]
  },
  {
   "cell_type": "code",
   "execution_count": 216,
   "metadata": {},
   "outputs": [],
   "source": [
    "tags_array = []\n",
    "for arr in df['tags']:\n",
    "    tags_array += eval(arr)\n",
    "    \n",
    "tags = Counter(tags_array).most_common(100)\n",
    "tag_names = [ tag[0] for tag in tags ]\n",
    "\n",
    "for name in tag_names:\n",
    "    df['tag_' + name] = 0"
   ]
  },
  {
   "cell_type": "code",
   "execution_count": 217,
   "metadata": {},
   "outputs": [],
   "source": [
    "def split_tags(row):\n",
    "    items = eval(row['tags'])\n",
    "    for item in items:\n",
    "        if item in tag_names:\n",
    "            row['tag_' + item] = 1\n",
    "    return row\n",
    "\n",
    "df = df.apply(lambda x: split_tags(x), axis=1)"
   ]
  },
  {
   "cell_type": "code",
   "execution_count": 219,
   "metadata": {},
   "outputs": [],
   "source": [
    "df = df.drop(columns=['related_talks', 'description', 'event', 'film_date', 'main_speaker', 'name', 'published_date', 'title', 'url', 'speaker_occupation', 'tags', 'ratings'])"
   ]
  },
  {
   "cell_type": "code",
   "execution_count": 220,
   "metadata": {},
   "outputs": [],
   "source": [
    "from sklearn.linear_model import LinearRegression\n",
    "from sklearn.model_selection import train_test_split"
   ]
  },
  {
   "cell_type": "code",
   "execution_count": 221,
   "metadata": {},
   "outputs": [],
   "source": [
    "X = df.drop(columns=['views'])\n",
    "y = df['views']"
   ]
  },
  {
   "cell_type": "code",
   "execution_count": 222,
   "metadata": {},
   "outputs": [],
   "source": [
    "X_train, X_test, y_train, y_test = train_test_split(X, y, test_size=0.2, random_state=1)"
   ]
  },
  {
   "cell_type": "code",
   "execution_count": 231,
   "metadata": {},
   "outputs": [],
   "source": [
    "reg = LinearRegression()\n",
    "reg = reg.fit(X_train, y_train)"
   ]
  },
  {
   "cell_type": "code",
   "execution_count": 246,
   "metadata": {},
   "outputs": [
    {
     "data": {
      "text/plain": [
       "0.8342423094159201"
      ]
     },
     "execution_count": 246,
     "metadata": {},
     "output_type": "execute_result"
    }
   ],
   "source": [
    "reg.score(X_train, y_train)"
   ]
  },
  {
   "cell_type": "code",
   "execution_count": 250,
   "metadata": {},
   "outputs": [],
   "source": [
    "i = 0\n",
    "coeffs = {}\n",
    "for col in X.columns:\n",
    "    coeffs[col] = reg.coef_[i]\n",
    "    i += 1"
   ]
  },
  {
   "cell_type": "code",
   "execution_count": 251,
   "metadata": {},
   "outputs": [
    {
     "data": {
      "text/plain": [
       "{'comments': -314.72796883559954,\n",
       " 'duration': 343.57363300853854,\n",
       " 'languages': 18001.57793726379,\n",
       " 'num_speaker': 66120.01343971958,\n",
       " 'Funny': 855.1581253937406,\n",
       " 'Beautiful': 125.55534338371623,\n",
       " 'Ingenious': 694.5735274363627,\n",
       " 'Courageous': 628.9319207633107,\n",
       " 'Longwinded': -3492.7975207435866,\n",
       " 'Confusing': 6664.337835583774,\n",
       " 'Informative': 1044.401687243207,\n",
       " 'Fascinating': 579.7237950277913,\n",
       " 'Unconvincing': -812.5241081184445,\n",
       " 'Persuasive': -66.29618732607469,\n",
       " 'Jaw-dropping': -3.564030806353003,\n",
       " 'OK': 6674.9103195866865,\n",
       " 'Obnoxious': -843.7114876172709,\n",
       " 'Inspiring': 319.48335540958215,\n",
       " 'tag_technology': -119531.85053048965,\n",
       " 'tag_science': -303210.86434774555,\n",
       " 'tag_global issues': -230130.85899581725,\n",
       " 'tag_culture': -120301.18880181707,\n",
       " 'tag_TEDx': 14617.960111389926,\n",
       " 'tag_design': -151729.7382658906,\n",
       " 'tag_business': -5788.089084344916,\n",
       " 'tag_entertainment': -29046.447628879752,\n",
       " 'tag_health': 103936.30376243679,\n",
       " 'tag_innovation': 11026.305542426766,\n",
       " 'tag_society': 73073.81573495627,\n",
       " 'tag_art': 29071.810333595786,\n",
       " 'tag_social change': 57462.58303854869,\n",
       " 'tag_future': 33532.52244352599,\n",
       " 'tag_communication': 52168.64624866971,\n",
       " 'tag_creativity': -162164.0768397103,\n",
       " 'tag_biology': 49897.412352349376,\n",
       " 'tag_humanity': 176748.74179258465,\n",
       " 'tag_collaboration': 46.07592815680255,\n",
       " 'tag_environment': -40469.22424559427,\n",
       " 'tag_economics': -162032.34090324488,\n",
       " 'tag_medicine': 141236.68172164258,\n",
       " 'tag_brain': -240764.19979616077,\n",
       " 'tag_activism': 33225.53629548543,\n",
       " 'tag_education': 4341.650288515879,\n",
       " 'tag_community': -35565.1087866351,\n",
       " 'tag_history': 47750.38278195041,\n",
       " 'tag_children': -155018.4166858344,\n",
       " 'tag_TED Fellows': -52167.61574299468,\n",
       " 'tag_music': -113051.55258618326,\n",
       " 'tag_invention': 109005.54739560651,\n",
       " 'tag_health care': -70897.04883819386,\n",
       " 'tag_politics': -63796.07919663197,\n",
       " 'tag_cities': 3707.6286941940816,\n",
       " 'tag_psychology': 141161.32233078667,\n",
       " 'tag_storytelling': -125177.977281727,\n",
       " 'tag_performance': 314192.27402542304,\n",
       " 'tag_women': -375.92963230389796,\n",
       " 'tag_nature': 255271.40944382153,\n",
       " 'tag_war': -4360.301437640579,\n",
       " 'tag_identity': -21279.641688317686,\n",
       " 'tag_computers': -72195.6993819524,\n",
       " 'tag_engineering': 94651.58769355057,\n",
       " 'tag_life': -82941.04899227511,\n",
       " 'tag_animals': -66660.43820051076,\n",
       " 'tag_Africa': 4373.448099662359,\n",
       " 'tag_humor': -42460.301704166675,\n",
       " 'tag_exploration': 20000.41289149859,\n",
       " 'tag_personal growth': -133462.02835964947,\n",
       " 'tag_inequality': 7805.748692557485,\n",
       " 'tag_data': 39881.20050882172,\n",
       " 'tag_government': -17264.05117892186,\n",
       " 'tag_photography': 272404.2977832766,\n",
       " 'tag_medical research': 294304.6247545498,\n",
       " 'tag_neuroscience': 103273.51706830846,\n",
       " 'tag_climate change': 154682.118467791,\n",
       " 'tag_Internet': -83300.11949021192,\n",
       " 'tag_visualizations': -184079.88969905302,\n",
       " 'tag_architecture': -53741.372785628584,\n",
       " 'tag_sustainability': 126224.69329084668,\n",
       " 'tag_live music': 322059.6849768715,\n",
       " 'tag_disease': 2155.189767288073,\n",
       " 'tag_oceans': 93034.08108216309,\n",
       " 'tag_physics': -276557.93018194946,\n",
       " 'tag_green': -307277.47639339673,\n",
       " 'tag_potential': 477165.1695739551,\n",
       " 'tag_happiness': -74953.1763938217,\n",
       " 'tag_biotech': 86238.7329945284,\n",
       " 'tag_work': 51190.49143873097,\n",
       " 'tag_mind': 66883.2750771213,\n",
       " 'tag_violence': -149498.60120708362,\n",
       " 'tag_media': -352564.6717169801,\n",
       " 'tag_evolution': -140695.30599116784,\n",
       " 'tag_film': 10787.03136986983,\n",
       " 'tag_writing': 159371.88000292724,\n",
       " 'tag_big problems': 96913.04247549041,\n",
       " 'tag_global development': -82347.50325645097,\n",
       " 'tag_philosophy': -353696.5982322895,\n",
       " 'tag_entrepreneur': 156912.42564626638,\n",
       " 'tag_motivation': 234976.1495190927,\n",
       " 'tag_beauty': 353231.0303133529,\n",
       " 'tag_genetics': -6425.254434891453,\n",
       " 'tag_biodiversity': -122737.6717319361,\n",
       " 'tag_space': 65339.19337891761,\n",
       " 'tag_poverty': -41585.90146926296,\n",
       " 'tag_robots': 393789.35521820147,\n",
       " 'tag_language': -366367.9982762714,\n",
       " 'tag_mental health': -42996.548714047494,\n",
       " 'tag_cognitive science': 140920.93236423607,\n",
       " 'tag_math': -213334.92456312108,\n",
       " 'tag_food': -217243.134036639,\n",
       " 'tag_religion': -89246.03161595066,\n",
       " 'tag_peace': 162180.34257628612,\n",
       " 'tag_ecology': -7372.524034159076,\n",
       " 'tag_family': 307095.56237944117,\n",
       " 'tag_demo': 213791.23228520426,\n",
       " 'tag_poetry': 256570.75248789787,\n",
       " 'tag_illness': -490897.3538513743,\n",
       " 'tag_universe': 341466.6962202257,\n",
       " 'tag_energy': 77049.81706349827}"
      ]
     },
     "execution_count": 251,
     "metadata": {},
     "output_type": "execute_result"
    }
   ],
   "source": [
    "coeffs"
   ]
  },
  {
   "cell_type": "code",
   "execution_count": null,
   "metadata": {},
   "outputs": [],
   "source": []
  },
  {
   "cell_type": "code",
   "execution_count": null,
   "metadata": {},
   "outputs": [],
   "source": []
  },
  {
   "cell_type": "code",
   "execution_count": null,
   "metadata": {},
   "outputs": [],
   "source": []
  }
 ],
 "metadata": {
  "kernelspec": {
   "display_name": "Python 3",
   "language": "python",
   "name": "python3"
  },
  "language_info": {
   "codemirror_mode": {
    "name": "ipython",
    "version": 3
   },
   "file_extension": ".py",
   "mimetype": "text/x-python",
   "name": "python",
   "nbconvert_exporter": "python",
   "pygments_lexer": "ipython3",
   "version": "3.6.7"
  }
 },
 "nbformat": 4,
 "nbformat_minor": 2
}
